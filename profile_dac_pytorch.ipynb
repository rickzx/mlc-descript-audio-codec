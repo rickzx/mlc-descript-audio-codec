{
 "cells": [
  {
   "cell_type": "code",
   "execution_count": 1,
   "metadata": {},
   "outputs": [
    {
     "name": "stdout",
     "output_type": "stream",
     "text": [
      "Requirement already satisfied: descript-audio-codec in /Users/cfruan/miniconda3/lib/python3.11/site-packages (1.0.0)\n",
      "Requirement already satisfied: argbind>=0.3.7 in /Users/cfruan/miniconda3/lib/python3.11/site-packages (from descript-audio-codec) (0.3.9)\n",
      "Requirement already satisfied: descript-audiotools>=0.7.2 in /Users/cfruan/miniconda3/lib/python3.11/site-packages (from descript-audio-codec) (0.7.2)\n",
      "Requirement already satisfied: einops in /Users/cfruan/miniconda3/lib/python3.11/site-packages (from descript-audio-codec) (0.8.0)\n",
      "Requirement already satisfied: numpy in /Users/cfruan/miniconda3/lib/python3.11/site-packages (from descript-audio-codec) (2.0.2)\n",
      "Requirement already satisfied: torch in /Users/cfruan/miniconda3/lib/python3.11/site-packages (from descript-audio-codec) (2.4.1)\n",
      "Requirement already satisfied: torchaudio in /Users/cfruan/miniconda3/lib/python3.11/site-packages (from descript-audio-codec) (2.4.1)\n",
      "Requirement already satisfied: tqdm in /Users/cfruan/miniconda3/lib/python3.11/site-packages (from descript-audio-codec) (4.65.0)\n",
      "Requirement already satisfied: pyyaml in /Users/cfruan/miniconda3/lib/python3.11/site-packages (from argbind>=0.3.7->descript-audio-codec) (6.0.2)\n",
      "Requirement already satisfied: docstring-parser in /Users/cfruan/miniconda3/lib/python3.11/site-packages (from argbind>=0.3.7->descript-audio-codec) (0.16)\n",
      "Requirement already satisfied: soundfile in /Users/cfruan/miniconda3/lib/python3.11/site-packages (from descript-audiotools>=0.7.2->descript-audio-codec) (0.12.1)\n",
      "Requirement already satisfied: pyloudnorm in /Users/cfruan/miniconda3/lib/python3.11/site-packages (from descript-audiotools>=0.7.2->descript-audio-codec) (0.1.1)\n",
      "Requirement already satisfied: importlib-resources in /Users/cfruan/miniconda3/lib/python3.11/site-packages (from descript-audiotools>=0.7.2->descript-audio-codec) (6.4.5)\n",
      "Requirement already satisfied: scipy in /Users/cfruan/miniconda3/lib/python3.11/site-packages (from descript-audiotools>=0.7.2->descript-audio-codec) (1.14.1)\n",
      "Requirement already satisfied: julius in /Users/cfruan/miniconda3/lib/python3.11/site-packages (from descript-audiotools>=0.7.2->descript-audio-codec) (0.2.7)\n",
      "Requirement already satisfied: ffmpy in /Users/cfruan/miniconda3/lib/python3.11/site-packages (from descript-audiotools>=0.7.2->descript-audio-codec) (0.4.0)\n",
      "Requirement already satisfied: ipython in /Users/cfruan/miniconda3/lib/python3.11/site-packages (from descript-audiotools>=0.7.2->descript-audio-codec) (8.28.0)\n",
      "Requirement already satisfied: rich in /Users/cfruan/miniconda3/lib/python3.11/site-packages (from descript-audiotools>=0.7.2->descript-audio-codec) (13.9.2)\n",
      "Requirement already satisfied: matplotlib in /Users/cfruan/miniconda3/lib/python3.11/site-packages (from descript-audiotools>=0.7.2->descript-audio-codec) (3.9.2)\n",
      "Requirement already satisfied: librosa in /Users/cfruan/miniconda3/lib/python3.11/site-packages (from descript-audiotools>=0.7.2->descript-audio-codec) (0.10.2.post1)\n",
      "Requirement already satisfied: pystoi in /Users/cfruan/miniconda3/lib/python3.11/site-packages (from descript-audiotools>=0.7.2->descript-audio-codec) (0.4.1)\n",
      "Requirement already satisfied: torch-stoi in /Users/cfruan/miniconda3/lib/python3.11/site-packages (from descript-audiotools>=0.7.2->descript-audio-codec) (0.2.3)\n",
      "Requirement already satisfied: flatten-dict in /Users/cfruan/miniconda3/lib/python3.11/site-packages (from descript-audiotools>=0.7.2->descript-audio-codec) (0.4.2)\n",
      "Requirement already satisfied: markdown2 in /Users/cfruan/miniconda3/lib/python3.11/site-packages (from descript-audiotools>=0.7.2->descript-audio-codec) (2.5.0)\n",
      "Requirement already satisfied: randomname in /Users/cfruan/miniconda3/lib/python3.11/site-packages (from descript-audiotools>=0.7.2->descript-audio-codec) (0.2.1)\n",
      "Requirement already satisfied: protobuf<3.20,>=3.9.2 in /Users/cfruan/miniconda3/lib/python3.11/site-packages (from descript-audiotools>=0.7.2->descript-audio-codec) (3.19.6)\n",
      "Requirement already satisfied: tensorboard in /Users/cfruan/miniconda3/lib/python3.11/site-packages (from descript-audiotools>=0.7.2->descript-audio-codec) (2.18.0)\n",
      "Requirement already satisfied: filelock in /Users/cfruan/miniconda3/lib/python3.11/site-packages (from torch->descript-audio-codec) (3.16.1)\n",
      "Requirement already satisfied: typing-extensions>=4.8.0 in /Users/cfruan/miniconda3/lib/python3.11/site-packages (from torch->descript-audio-codec) (4.12.2)\n",
      "Requirement already satisfied: sympy in /Users/cfruan/miniconda3/lib/python3.11/site-packages (from torch->descript-audio-codec) (1.13.3)\n",
      "Requirement already satisfied: networkx in /Users/cfruan/miniconda3/lib/python3.11/site-packages (from torch->descript-audio-codec) (3.3)\n",
      "Requirement already satisfied: jinja2 in /Users/cfruan/miniconda3/lib/python3.11/site-packages (from torch->descript-audio-codec) (3.1.4)\n",
      "Requirement already satisfied: fsspec in /Users/cfruan/miniconda3/lib/python3.11/site-packages (from torch->descript-audio-codec) (2024.9.0)\n",
      "Requirement already satisfied: six<2.0,>=1.12 in /Users/cfruan/miniconda3/lib/python3.11/site-packages (from flatten-dict->descript-audiotools>=0.7.2->descript-audio-codec) (1.16.0)\n",
      "Requirement already satisfied: decorator in /Users/cfruan/miniconda3/lib/python3.11/site-packages (from ipython->descript-audiotools>=0.7.2->descript-audio-codec) (4.4.2)\n",
      "Requirement already satisfied: jedi>=0.16 in /Users/cfruan/miniconda3/lib/python3.11/site-packages (from ipython->descript-audiotools>=0.7.2->descript-audio-codec) (0.19.1)\n",
      "Requirement already satisfied: matplotlib-inline in /Users/cfruan/miniconda3/lib/python3.11/site-packages (from ipython->descript-audiotools>=0.7.2->descript-audio-codec) (0.1.7)\n",
      "Requirement already satisfied: prompt-toolkit<3.1.0,>=3.0.41 in /Users/cfruan/miniconda3/lib/python3.11/site-packages (from ipython->descript-audiotools>=0.7.2->descript-audio-codec) (3.0.48)\n",
      "Requirement already satisfied: pygments>=2.4.0 in /Users/cfruan/miniconda3/lib/python3.11/site-packages (from ipython->descript-audiotools>=0.7.2->descript-audio-codec) (2.18.0)\n",
      "Requirement already satisfied: stack-data in /Users/cfruan/miniconda3/lib/python3.11/site-packages (from ipython->descript-audiotools>=0.7.2->descript-audio-codec) (0.6.2)\n",
      "Requirement already satisfied: traitlets>=5.13.0 in /Users/cfruan/miniconda3/lib/python3.11/site-packages (from ipython->descript-audiotools>=0.7.2->descript-audio-codec) (5.14.3)\n",
      "Requirement already satisfied: pexpect>4.3 in /Users/cfruan/miniconda3/lib/python3.11/site-packages (from ipython->descript-audiotools>=0.7.2->descript-audio-codec) (4.9.0)\n",
      "Requirement already satisfied: MarkupSafe>=2.0 in /Users/cfruan/miniconda3/lib/python3.11/site-packages (from jinja2->torch->descript-audio-codec) (3.0.0)\n",
      "Requirement already satisfied: audioread>=2.1.9 in /Users/cfruan/miniconda3/lib/python3.11/site-packages (from librosa->descript-audiotools>=0.7.2->descript-audio-codec) (3.0.1)\n",
      "Requirement already satisfied: scikit-learn>=0.20.0 in /Users/cfruan/miniconda3/lib/python3.11/site-packages (from librosa->descript-audiotools>=0.7.2->descript-audio-codec) (1.5.2)\n",
      "Requirement already satisfied: joblib>=0.14 in /Users/cfruan/miniconda3/lib/python3.11/site-packages (from librosa->descript-audiotools>=0.7.2->descript-audio-codec) (1.4.2)\n",
      "Requirement already satisfied: numba>=0.51.0 in /Users/cfruan/miniconda3/lib/python3.11/site-packages (from librosa->descript-audiotools>=0.7.2->descript-audio-codec) (0.60.0)\n",
      "Requirement already satisfied: pooch>=1.1 in /Users/cfruan/miniconda3/lib/python3.11/site-packages (from librosa->descript-audiotools>=0.7.2->descript-audio-codec) (1.8.2)\n",
      "Requirement already satisfied: soxr>=0.3.2 in /Users/cfruan/miniconda3/lib/python3.11/site-packages (from librosa->descript-audiotools>=0.7.2->descript-audio-codec) (0.5.0.post1)\n",
      "Requirement already satisfied: lazy-loader>=0.1 in /Users/cfruan/miniconda3/lib/python3.11/site-packages (from librosa->descript-audiotools>=0.7.2->descript-audio-codec) (0.4)\n",
      "Requirement already satisfied: msgpack>=1.0 in /Users/cfruan/miniconda3/lib/python3.11/site-packages (from librosa->descript-audiotools>=0.7.2->descript-audio-codec) (1.1.0)\n",
      "Requirement already satisfied: cffi>=1.0 in /Users/cfruan/miniconda3/lib/python3.11/site-packages (from soundfile->descript-audiotools>=0.7.2->descript-audio-codec) (1.15.1)\n",
      "Requirement already satisfied: contourpy>=1.0.1 in /Users/cfruan/miniconda3/lib/python3.11/site-packages (from matplotlib->descript-audiotools>=0.7.2->descript-audio-codec) (1.3.0)\n",
      "Requirement already satisfied: cycler>=0.10 in /Users/cfruan/miniconda3/lib/python3.11/site-packages (from matplotlib->descript-audiotools>=0.7.2->descript-audio-codec) (0.12.1)\n",
      "Requirement already satisfied: fonttools>=4.22.0 in /Users/cfruan/miniconda3/lib/python3.11/site-packages (from matplotlib->descript-audiotools>=0.7.2->descript-audio-codec) (4.54.1)\n",
      "Requirement already satisfied: kiwisolver>=1.3.1 in /Users/cfruan/miniconda3/lib/python3.11/site-packages (from matplotlib->descript-audiotools>=0.7.2->descript-audio-codec) (1.4.7)\n",
      "Requirement already satisfied: packaging>=20.0 in /Users/cfruan/miniconda3/lib/python3.11/site-packages (from matplotlib->descript-audiotools>=0.7.2->descript-audio-codec) (23.0)\n",
      "Requirement already satisfied: pillow>=8 in /Users/cfruan/miniconda3/lib/python3.11/site-packages (from matplotlib->descript-audiotools>=0.7.2->descript-audio-codec) (10.4.0)\n",
      "Requirement already satisfied: pyparsing>=2.3.1 in /Users/cfruan/miniconda3/lib/python3.11/site-packages (from matplotlib->descript-audiotools>=0.7.2->descript-audio-codec) (3.1.4)\n",
      "Requirement already satisfied: python-dateutil>=2.7 in /Users/cfruan/miniconda3/lib/python3.11/site-packages (from matplotlib->descript-audiotools>=0.7.2->descript-audio-codec) (2.9.0)\n",
      "Requirement already satisfied: future>=0.16.0 in /Users/cfruan/miniconda3/lib/python3.11/site-packages (from pyloudnorm->descript-audiotools>=0.7.2->descript-audio-codec) (1.0.0)\n",
      "Requirement already satisfied: fire in /Users/cfruan/miniconda3/lib/python3.11/site-packages (from randomname->descript-audiotools>=0.7.2->descript-audio-codec) (0.7.0)\n",
      "Requirement already satisfied: markdown-it-py>=2.2.0 in /Users/cfruan/miniconda3/lib/python3.11/site-packages (from rich->descript-audiotools>=0.7.2->descript-audio-codec) (3.0.0)\n",
      "Requirement already satisfied: mpmath<1.4,>=1.1.0 in /Users/cfruan/miniconda3/lib/python3.11/site-packages (from sympy->torch->descript-audio-codec) (1.3.0)\n",
      "Requirement already satisfied: absl-py>=0.4 in /Users/cfruan/miniconda3/lib/python3.11/site-packages (from tensorboard->descript-audiotools>=0.7.2->descript-audio-codec) (2.1.0)\n",
      "Requirement already satisfied: grpcio>=1.48.2 in /Users/cfruan/miniconda3/lib/python3.11/site-packages (from tensorboard->descript-audiotools>=0.7.2->descript-audio-codec) (1.66.2)\n",
      "Requirement already satisfied: markdown>=2.6.8 in /Users/cfruan/miniconda3/lib/python3.11/site-packages (from tensorboard->descript-audiotools>=0.7.2->descript-audio-codec) (3.7)\n",
      "Requirement already satisfied: setuptools>=41.0.0 in /Users/cfruan/miniconda3/lib/python3.11/site-packages (from tensorboard->descript-audiotools>=0.7.2->descript-audio-codec) (67.8.0)\n",
      "Requirement already satisfied: tensorboard-data-server<0.8.0,>=0.7.0 in /Users/cfruan/miniconda3/lib/python3.11/site-packages (from tensorboard->descript-audiotools>=0.7.2->descript-audio-codec) (0.7.2)\n",
      "Requirement already satisfied: werkzeug>=1.0.1 in /Users/cfruan/miniconda3/lib/python3.11/site-packages (from tensorboard->descript-audiotools>=0.7.2->descript-audio-codec) (3.0.4)\n",
      "Requirement already satisfied: pycparser in /Users/cfruan/miniconda3/lib/python3.11/site-packages (from cffi>=1.0->soundfile->descript-audiotools>=0.7.2->descript-audio-codec) (2.21)\n",
      "Requirement already satisfied: parso<0.9.0,>=0.8.3 in /Users/cfruan/miniconda3/lib/python3.11/site-packages (from jedi>=0.16->ipython->descript-audiotools>=0.7.2->descript-audio-codec) (0.8.4)\n",
      "Requirement already satisfied: mdurl~=0.1 in /Users/cfruan/miniconda3/lib/python3.11/site-packages (from markdown-it-py>=2.2.0->rich->descript-audiotools>=0.7.2->descript-audio-codec) (0.1.2)\n",
      "Requirement already satisfied: llvmlite<0.44,>=0.43.0dev0 in /Users/cfruan/miniconda3/lib/python3.11/site-packages (from numba>=0.51.0->librosa->descript-audiotools>=0.7.2->descript-audio-codec) (0.43.0)\n",
      "Requirement already satisfied: ptyprocess>=0.5 in /Users/cfruan/miniconda3/lib/python3.11/site-packages (from pexpect>4.3->ipython->descript-audiotools>=0.7.2->descript-audio-codec) (0.7.0)\n",
      "Requirement already satisfied: platformdirs>=2.5.0 in /Users/cfruan/miniconda3/lib/python3.11/site-packages (from pooch>=1.1->librosa->descript-audiotools>=0.7.2->descript-audio-codec) (4.3.6)\n",
      "Requirement already satisfied: requests>=2.19.0 in /Users/cfruan/miniconda3/lib/python3.11/site-packages (from pooch>=1.1->librosa->descript-audiotools>=0.7.2->descript-audio-codec) (2.29.0)\n",
      "Requirement already satisfied: wcwidth in /Users/cfruan/miniconda3/lib/python3.11/site-packages (from prompt-toolkit<3.1.0,>=3.0.41->ipython->descript-audiotools>=0.7.2->descript-audio-codec) (0.2.13)\n",
      "Requirement already satisfied: threadpoolctl>=3.1.0 in /Users/cfruan/miniconda3/lib/python3.11/site-packages (from scikit-learn>=0.20.0->librosa->descript-audiotools>=0.7.2->descript-audio-codec) (3.5.0)\n",
      "Requirement already satisfied: termcolor in /Users/cfruan/miniconda3/lib/python3.11/site-packages (from fire->randomname->descript-audiotools>=0.7.2->descript-audio-codec) (2.5.0)\n",
      "Requirement already satisfied: executing>=1.2.0 in /Users/cfruan/miniconda3/lib/python3.11/site-packages (from stack-data->ipython->descript-audiotools>=0.7.2->descript-audio-codec) (2.1.0)\n",
      "Requirement already satisfied: asttokens>=2.1.0 in /Users/cfruan/miniconda3/lib/python3.11/site-packages (from stack-data->ipython->descript-audiotools>=0.7.2->descript-audio-codec) (2.4.1)\n",
      "Requirement already satisfied: pure-eval in /Users/cfruan/miniconda3/lib/python3.11/site-packages (from stack-data->ipython->descript-audiotools>=0.7.2->descript-audio-codec) (0.2.3)\n",
      "Requirement already satisfied: charset-normalizer<4,>=2 in /Users/cfruan/miniconda3/lib/python3.11/site-packages (from requests>=2.19.0->pooch>=1.1->librosa->descript-audiotools>=0.7.2->descript-audio-codec) (2.0.4)\n",
      "Requirement already satisfied: idna<4,>=2.5 in /Users/cfruan/miniconda3/lib/python3.11/site-packages (from requests>=2.19.0->pooch>=1.1->librosa->descript-audiotools>=0.7.2->descript-audio-codec) (3.4)\n",
      "Requirement already satisfied: urllib3<1.27,>=1.21.1 in /Users/cfruan/miniconda3/lib/python3.11/site-packages (from requests>=2.19.0->pooch>=1.1->librosa->descript-audiotools>=0.7.2->descript-audio-codec) (1.26.16)\n",
      "Requirement already satisfied: certifi>=2017.4.17 in /Users/cfruan/miniconda3/lib/python3.11/site-packages (from requests>=2.19.0->pooch>=1.1->librosa->descript-audiotools>=0.7.2->descript-audio-codec) (2024.8.30)\n"
     ]
    }
   ],
   "source": [
    "!pip install descript-audio-codec"
   ]
  },
  {
   "cell_type": "code",
   "execution_count": 1,
   "metadata": {},
   "outputs": [
    {
     "name": "stderr",
     "output_type": "stream",
     "text": [
      "/Users/cfruan/miniconda3/lib/python3.11/site-packages/audiotools/ml/layers/base.py:172: FutureWarning: You are using `torch.load` with `weights_only=False` (the current default value), which uses the default pickle module implicitly. It is possible to construct malicious pickle data which will execute arbitrary code during unpickling (See https://github.com/pytorch/pytorch/blob/main/SECURITY.md#untrusted-models for more details). In a future release, the default value for `weights_only` will be flipped to `True`. This limits the functions that could be executed during unpickling. Arbitrary objects will no longer be allowed to be loaded via this mode unless they are explicitly allowlisted by the user via `torch.serialization.add_safe_globals`. We recommend you start setting `weights_only=True` for any use case where you don't have full control of the loaded file. Please open an issue on GitHub for any issues related to this experimental feature.\n",
      "  model_dict = torch.load(location, \"cpu\")\n",
      "/Users/cfruan/miniconda3/lib/python3.11/site-packages/torch/nn/utils/weight_norm.py:134: FutureWarning: `torch.nn.utils.weight_norm` is deprecated in favor of `torch.nn.utils.parametrizations.weight_norm`.\n",
      "  WeightNorm.apply(module, name, dim)\n"
     ]
    }
   ],
   "source": [
    "import dac\n",
    "\n",
    "# Download a model\n",
    "model_path = dac.utils.download(model_type=\"44khz\")\n",
    "model = dac.DAC.load(model_path).to(\"cpu\")"
   ]
  },
  {
   "cell_type": "code",
   "execution_count": 2,
   "metadata": {},
   "outputs": [],
   "source": [
    "from audiotools import AudioSignal\n",
    "\n",
    "import numpy as np\n",
    "import torch\n",
    "import time\n",
    "\n",
    "# Load audio signal file\n",
    "sr = 44100\n",
    "silence = np.random.randn(*(2, 1, 441000)).astype(np.float32)\n",
    "signal = AudioSignal(silence, sample_rate=sr)\n",
    "data = torch.tensor(silence).to(\"cpu\")"
   ]
  },
  {
   "cell_type": "code",
   "execution_count": 3,
   "metadata": {},
   "outputs": [
    {
     "name": "stdout",
     "output_type": "stream",
     "text": [
      "4.9690399169921875\n"
     ]
    }
   ],
   "source": [
    "s = time.time()\n",
    "model.encode(data)\n",
    "print(time.time() - s)"
   ]
  },
  {
   "cell_type": "code",
   "execution_count": 12,
   "metadata": {},
   "outputs": [
    {
     "data": {
      "text/plain": [
       "device(type='cpu')"
      ]
     },
     "execution_count": 12,
     "metadata": {},
     "output_type": "execute_result"
    }
   ],
   "source": [
    "model.device"
   ]
  },
  {
   "cell_type": "code",
   "execution_count": 13,
   "metadata": {},
   "outputs": [
    {
     "name": "stdout",
     "output_type": "stream",
     "text": [
      "2.436523199081421\n",
      "3.2332870960235596\n"
     ]
    }
   ],
   "source": [
    "signal.to(model.device)\n",
    "\n",
    "import time\n",
    "\n",
    "s = time.time()\n",
    "# signal = signal.cpu()\n",
    "x = model.compress(signal)\n",
    "print(time.time() - s)\n",
    "\n",
    "s = time.time()\n",
    "y = model.decompress(x)\n",
    "print(time.time() - s)"
   ]
  },
  {
   "cell_type": "code",
   "execution_count": null,
   "metadata": {},
   "outputs": [],
   "source": []
  }
 ],
 "metadata": {
  "kernelspec": {
   "display_name": "base",
   "language": "python",
   "name": "python3"
  },
  "language_info": {
   "codemirror_mode": {
    "name": "ipython",
    "version": 3
   },
   "file_extension": ".py",
   "mimetype": "text/x-python",
   "name": "python",
   "nbconvert_exporter": "python",
   "pygments_lexer": "ipython3",
   "version": "3.11.4"
  }
 },
 "nbformat": 4,
 "nbformat_minor": 2
}
